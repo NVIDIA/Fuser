{
 "cells": [
  {
   "cell_type": "code",
   "execution_count": 10,
   "metadata": {},
   "outputs": [],
   "source": [
    "import nvfuser\n",
    "import thunder\n",
    "import torch\n",
    "import torch.nn.functional as F\n",
    "from nvfuser import FusionDefinition, DataType"
   ]
  },
  {
   "cell_type": "code",
   "execution_count": 11,
   "metadata": {},
   "outputs": [],
   "source": [
    "from thunder.tests.framework import nvFuserExecutor\n",
    "import thunder.examine as examine\n",
    "from thunder.examine import get_fusions"
   ]
  },
  {
   "cell_type": "code",
   "execution_count": 12,
   "metadata": {},
   "outputs": [],
   "source": [
    "def test_sdpa(nv_enable_sdpa):\n",
    "    device = 'cuda'\n",
    "    executor = nvFuserExecutor\n",
    "    dropout_p = 0.01\n",
    "    is_causal = False\n",
    "    scale = None\n",
    "    dtype = torch.float16\n",
    "    \n",
    "    def sdpa_fn(q, k, v, dropout_p, is_causal, scale):\n",
    "        return F.scaled_dot_product_attention(\n",
    "            q, k, v, dropout_p=dropout_p, is_causal=is_causal, scale=scale\n",
    "        )\n",
    "\n",
    "    torch.manual_seed(0)\n",
    "\n",
    "    N, H, L, S, E = 4, 8, 16, 16, 16\n",
    "    q = torch.randn((N, H, L, E), device=device, dtype=dtype, requires_grad=True)\n",
    "    k = torch.randn((N, H, S, E), device=device, dtype=dtype, requires_grad=True)\n",
    "    v = torch.randn((N, H, S, E), device=device, dtype=dtype, requires_grad=True)\n",
    "    grad_out = torch.randn((N, H, L, E), device=device, dtype=dtype)\n",
    "\n",
    "    tensor_inputs = [q, k, v]\n",
    "    scalar_inputs = [dropout_p, is_causal, scale]\n",
    "\n",
    "    compiled_func = thunder.jit(sdpa_fn, executors=executor.executors_list(), nv_enable_sdpa=False, nv_enable_matmul=True, nv_enable_linear=True)\n",
    "    with torch.random.fork_rng(devices=[torch.cuda.current_device()]):\n",
    "        attn_out = compiled_func(*tensor_inputs, *scalar_inputs)\n",
    "    attn_out.backward(grad_out)\n",
    "    fwd_trace = thunder.last_traces(compiled_func)[-1]\n",
    "    bwd_trace = thunder.last_backward_traces(compiled_func)[-1]\n",
    "    fwd_fusion = examine.get_fusions(fwd_trace)\n",
    "    bwd_fusion = examine.get_fusions(bwd_trace)\n",
    "    print(nv_enable_sdpa)\n",
    "    if (nv_enable_sdpa):\n",
    "        assert len(fwd_fusion) == 1\n",
    "        assert len(bwd_fusion) == 1\n",
    "        assert \"nv_sdpfa_fwd\" in fwd_fusion[-1][-1].name\n",
    "\n",
    "        # Check nv_sdpfa_fwd is not in bwd_fusion -> that would indicate rematerialization\n",
    "        assert \"nv_sdpfa_bwd\" in bwd_fusion[-1][-1].name and \"nv_sdpfa_fwd\" not in bwd_fusion[-1][-1].name\n",
    "        \n",
    "    return fwd_fusion, bwd_fusion"
   ]
  },
  {
   "cell_type": "code",
   "execution_count": 13,
   "metadata": {},
   "outputs": [
    {
     "name": "stdout",
     "output_type": "stream",
     "text": [
      "True\n"
     ]
    }
   ],
   "source": [
    "sdpa_fwd, sdpa_bwd = test_sdpa(True)"
   ]
  },
  {
   "cell_type": "code",
   "execution_count": 47,
   "metadata": {},
   "outputs": [
    {
     "name": "stdout",
     "output_type": "stream",
     "text": [
      "\n",
      "def nvfuser_fusion_id1(fd : FusionDefinition) -> None :\n",
      "    T0 = fd.define_tensor(shape=[-1, -1, -1, -1], contiguity=[True, True, True, True], dtype=DataType.Half, is_cpu=False, stride_order=[3, 2, 1, 0])\n",
      "    T1 = fd.define_tensor(shape=[-1, -1, -1, -1], contiguity=[True, True, True, True], dtype=DataType.Half, is_cpu=False, stride_order=[3, 2, 1, 0])\n",
      "    T2 = fd.define_tensor(shape=[-1, -1, -1, -1], contiguity=[True, True, True, True], dtype=DataType.Half, is_cpu=False, stride_order=[3, 2, 1, 0])\n",
      "    S3 = fd.define_scalar(0.0100000, dtype=DataType.Double)\n",
      "    S4 = fd.define_scalar(False, dtype=DataType.Bool)\n",
      "    T5, T6, T7, T8 = fd.ops.sdpfa_fwd(T0, T1, T2, S3, S4, None)\n",
      "    fd.add_output(T5)\n",
      "    fd.add_output(T6)\n",
      "    fd.add_output(T7)\n",
      "    fd.add_output(T8)\n",
      "\n",
      "\n",
      "\n",
      "def nvfuser_fusion_id2(fd : FusionDefinition) -> None :\n",
      "    T0 = fd.define_tensor(shape=[-1, -1, -1, -1], contiguity=[True, True, True, True], dtype=DataType.Half, is_cpu=False, stride_order=[3, 2, 1, 0])\n",
      "    T1 = fd.define_tensor(shape=[-1, -1, -1, -1], contiguity=[True, True, True, True], dtype=DataType.Half, is_cpu=False, stride_order=[3, 2, 1, 0])\n",
      "    T2 = fd.define_tensor(shape=[-1, -1, -1, -1], contiguity=[True, True, True, True], dtype=DataType.Half, is_cpu=False, stride_order=[3, 2, 1, 0])\n",
      "    T3 = fd.define_tensor(shape=[-1, -1, -1, -1], contiguity=[True, True, True, True], dtype=DataType.Half, is_cpu=False, stride_order=[3, 2, 1, 0])\n",
      "    T4 = fd.define_tensor(shape=[-1, -1, -1, -1], contiguity=[True, True, True, True], dtype=DataType.Half, is_cpu=False, stride_order=[3, 2, 1, 0])\n",
      "    T5 = fd.define_tensor(shape=[-1, -1, -1], contiguity=[True, True, True], dtype=DataType.Float, is_cpu=False, stride_order=[2, 1, 0])\n",
      "    T6 = fd.define_tensor(shape=[], contiguity=[], dtype=DataType.Int, is_cpu=False)\n",
      "    T7 = fd.define_tensor(shape=[], contiguity=[], dtype=DataType.Int, is_cpu=False)\n",
      "    S8 = fd.define_scalar(0.0100000, dtype=DataType.Double)\n",
      "    S9 = fd.define_scalar(False, dtype=DataType.Bool)\n",
      "    T10, T11, T12 = fd.ops.sdpfa_bwd(T0, T1, T2, T3, T4, T5, S8, S9, T6, T7, None)\n",
      "    fd.add_output(T10)\n",
      "    fd.add_output(T11)\n",
      "    fd.add_output(T12)\n",
      "\n",
      "\n"
     ]
    }
   ],
   "source": [
    "print(sdpa_fwd[0][-1].last_used)\n",
    "print(sdpa_bwd[0][-1].last_used)"
   ]
  },
  {
   "cell_type": "code",
   "execution_count": 8,
   "metadata": {},
   "outputs": [
    {
     "name": "stdout",
     "output_type": "stream",
     "text": [
      "False\n"
     ]
    }
   ],
   "source": [
    "non_sdpa_fwd, non_sdpa_bwd = test_sdpa(False)"
   ]
  },
  {
   "cell_type": "code",
   "execution_count": 9,
   "metadata": {},
   "outputs": [
    {
     "name": "stdout",
     "output_type": "stream",
     "text": [
      "\n",
      "def nvfuser_fusion_id5(fd : FusionDefinition) -> None :\n",
      "    T0 = fd.define_tensor(shape=[-1, -1, -1, -1], contiguity=[True, True, True, True], dtype=DataType.Half, is_cpu=False, stride_order=[3, 2, 1, 0])\n",
      "    T1 = fd.define_tensor(shape=[-1, -1, -1, -1], contiguity=[True, True, True, True], dtype=DataType.Half, is_cpu=False, stride_order=[3, 2, 1, 0])\n",
      "    T2 = fd.define_tensor(shape=[-1, -1, -1, -1], contiguity=[True, True, True, True], dtype=DataType.Half, is_cpu=False, stride_order=[3, 2, 1, 0])\n",
      "    S3 = fd.define_scalar(0.0100000, dtype=DataType.Double)\n",
      "    S4 = fd.define_scalar(False, dtype=DataType.Bool)\n",
      "    T5, T6, T7, T8 = fd.ops.sdpfa_fwd(T0, T1, T2, S3, S4, None)\n",
      "    fd.add_output(T5)\n",
      "    fd.add_output(T6)\n",
      "    fd.add_output(T7)\n",
      "    fd.add_output(T8)\n",
      "\n",
      "\n",
      "\n",
      "def nvfuser_fusion_id6(fd : FusionDefinition) -> None :\n",
      "    T0 = fd.define_tensor(shape=[-1, -1, -1, -1], contiguity=[True, True, True, True], dtype=DataType.Half, is_cpu=False, stride_order=[3, 2, 1, 0])\n",
      "    T1 = fd.define_tensor(shape=[-1, -1, -1, -1], contiguity=[True, True, True, True], dtype=DataType.Half, is_cpu=False, stride_order=[3, 2, 1, 0])\n",
      "    T2 = fd.define_tensor(shape=[-1, -1, -1, -1], contiguity=[True, True, True, True], dtype=DataType.Half, is_cpu=False, stride_order=[3, 2, 1, 0])\n",
      "    T3 = fd.define_tensor(shape=[-1, -1, -1, -1], contiguity=[True, True, True, True], dtype=DataType.Half, is_cpu=False, stride_order=[3, 2, 1, 0])\n",
      "    T4 = fd.define_tensor(shape=[-1, -1, -1, -1], contiguity=[True, True, True, True], dtype=DataType.Half, is_cpu=False, stride_order=[3, 2, 1, 0])\n",
      "    T5 = fd.define_tensor(shape=[-1, -1, -1], contiguity=[True, True, True], dtype=DataType.Float, is_cpu=False, stride_order=[2, 1, 0])\n",
      "    T6 = fd.define_tensor(shape=[], contiguity=[], dtype=DataType.Int, is_cpu=False)\n",
      "    T7 = fd.define_tensor(shape=[], contiguity=[], dtype=DataType.Int, is_cpu=False)\n",
      "    S8 = fd.define_scalar(0.0100000, dtype=DataType.Double)\n",
      "    S9 = fd.define_scalar(False, dtype=DataType.Bool)\n",
      "    T10, T11, T12 = fd.ops.sdpfa_bwd(T0, T1, T2, T3, T4, T5, S8, S9, T6, T7, None)\n",
      "    fd.add_output(T10)\n",
      "    fd.add_output(T11)\n",
      "    fd.add_output(T12)\n",
      "\n",
      "\n"
     ]
    }
   ],
   "source": [
    "print(non_sdpa_fwd[0][-1].last_used)\n",
    "print(non_sdpa_bwd[0][-1].last_used)"
   ]
  },
  {
   "cell_type": "code",
   "execution_count": null,
   "metadata": {},
   "outputs": [],
   "source": []
  }
 ],
 "metadata": {
  "kernelspec": {
   "display_name": "Python 3",
   "language": "python",
   "name": "python3"
  },
  "language_info": {
   "codemirror_mode": {
    "name": "ipython",
    "version": 3
   },
   "file_extension": ".py",
   "mimetype": "text/x-python",
   "name": "python",
   "nbconvert_exporter": "python",
   "pygments_lexer": "ipython3",
   "version": "3.10.12"
  },
  "orig_nbformat": 4
 },
 "nbformat": 4,
 "nbformat_minor": 2
}
