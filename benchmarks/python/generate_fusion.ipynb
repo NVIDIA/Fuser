{
 "cells": [
  {
   "cell_type": "code",
   "execution_count": 1,
   "metadata": {},
   "outputs": [],
   "source": [
    "import numpy as np\n",
    "import nvfuser\n",
    "import thunder\n",
    "from thunder.examine import examine, get_fusions\n",
    "from thunder.executors.nvfuserex import nvfuser_version, nvfuserex\n",
    "import torch\n",
    "import torch.nn.functional as F"
   ]
  },
  {
   "cell_type": "code",
   "execution_count": 7,
   "metadata": {},
   "outputs": [],
   "source": [
    "def fn(xy):\n",
    "    x, y = torch.split(xy, xy.shape[-1] // 2, dim=-1)\n",
    "    return torch.nn.functional.silu(x) * y"
   ]
  },
  {
   "cell_type": "code",
   "execution_count": 38,
   "metadata": {},
   "outputs": [],
   "source": [
    "dtype = torch.float32\n",
    "xy = torch.randn(4, 16, dtype=dtype, device='cuda', requires_grad=True)\n",
    "grads = torch.randn(xy.shape[0], xy.shape[-1]//2, dtype=dtype, device='cuda')\n",
    "jfunc = thunder.jit(fn, executors=[nvfuserex])\n",
    "out = jfunc(xy)\n",
    "out.backward(grads)"
   ]
  },
  {
   "cell_type": "code",
   "execution_count": 39,
   "metadata": {},
   "outputs": [],
   "source": [
    "fwd_trace = thunder.last_traces(jfunc)[-1]\n",
    "bwd_trace = thunder.last_backward_traces(jfunc)[-1]"
   ]
  },
  {
   "cell_type": "code",
   "execution_count": 40,
   "metadata": {},
   "outputs": [
    {
     "data": {
      "text/plain": [
       "\n",
       "def nvfuser_fusion_id0(fd : FusionDefinition) -> None :\n",
       "    T0 = fd.define_tensor(shape=[-1, -1], contiguity=[True, True], dtype=DataType.Float, is_cpu=False, stride_order=[1, 0])\n",
       "    T1 = fd.ops.slice(T0, start_indices=[0, 0], end_indices=[4, 8], strides=[1, 1])\n",
       "    T2 = fd.ops.slice(T0, start_indices=[0, 8], end_indices=[4, 16], strides=[1, 1])\n",
       "    T3 = fd.ops.neg(T1)\n",
       "    T4 = fd.ops.exp(T3)\n",
       "    S5 = fd.define_scalar(1.00000, dtype=DataType.Double)\n",
       "    T6 = fd.ops.add(S5, T4)\n",
       "    T7 = fd.ops.reciprocal(T6)\n",
       "    T8 = fd.ops.mul(T1, T7)\n",
       "    T9 = fd.ops.mul(T8, T2)\n",
       "    fd.add_output(T9)\n"
      ]
     },
     "execution_count": 40,
     "metadata": {},
     "output_type": "execute_result"
    }
   ],
   "source": [
    "fwd_trace.python_ctx()['nvFusion0'].last_used"
   ]
  },
  {
   "cell_type": "code",
   "execution_count": 41,
   "metadata": {},
   "outputs": [
    {
     "name": "stdout",
     "output_type": "stream",
     "text": [
      "# Constructed by Delete Last Used (took 0 milliseconds)\n",
      "import torch\n",
      "from thunder.executors.torchex import no_autocast\n",
      "\n",
      "@torch.no_grad()\n",
      "@no_autocast\n",
      "def backward_fn(saved_for_backward, cotangents):\n",
      "  # saved_for_backward: \"Collection\"\n",
      "  # cotangents: \"Collection\"\n",
      "  C0, _, = saved_for_backward\n",
      "  clear_mutable_collection(saved_for_backward)\n",
      "  del saved_for_backward\n",
      "  t8, = cotangents\n",
      "  clear_mutable_collection(cotangents)\n",
      "  del cotangents\n",
      "  xy, = C0\n",
      "  clear_mutable_collection(C0)\n",
      "  del C0\n",
      "  [t25] = nvFusion0(xy, t8)\n",
      "    # t0 = prims.slice_prim(xy, [0, 0], [4, 8], [1, 1])  # t0: \"cuda:0 f32[4, 8]\"\n",
      "    # t2 = prims.neg(t0)  # t2: \"cuda:0 f32[4, 8]\"\n",
      "    # t1 = prims.slice_prim(xy, [0, 8], [4, 16], [1, 1])  # t1: \"cuda:0 f32[4, 8]\"\n",
      "    # t3 = prims.exp(t2)  # t3: \"cuda:0 f32[4, 8]\"\n",
      "    # t15 = prims.mul(t1, t8)  # t15: \"cuda:0 f32[4, 8]\"\n",
      "    # t4 = prims.add(1.0, t3)  # t4: \"cuda:0 f32[4, 8]\"\n",
      "    # t18 = prims.mul(t0, t15)  # t18: \"cuda:0 f32[4, 8]\"\n",
      "    # t5 = prims.reciprocal(t4)  # t5: \"cuda:0 f32[4, 8]\"\n",
      "    # t19 = prims.neg(t18)  # t19: \"cuda:0 f32[4, 8]\"\n",
      "    # t20 = prims.mul(t19, t5)  # t20: \"cuda:0 f32[4, 8]\"\n",
      "    # t21 = prims.mul(t20, t5)  # t21: \"cuda:0 f32[4, 8]\"\n",
      "    # t22 = prims.mul(t21, t3)  # t22: \"cuda:0 f32[4, 8]\"\n",
      "    # t6 = prims.mul(t0, t5)  # t6: \"cuda:0 f32[4, 8]\"\n",
      "    # t23 = prims.neg(t22)  # t23: \"cuda:0 f32[4, 8]\"\n",
      "    # t17 = prims.mul(t5, t15)  # t17: \"cuda:0 f32[4, 8]\"\n",
      "    # t16 = prims.mul(t6, t8)  # t16: \"cuda:0 f32[4, 8]\"\n",
      "    # t24 = prims.add(t17, t23)  # t24: \"cuda:0 f32[4, 8]\"\n",
      "    # t25 = prims.cat([t24, t16], -1)  # t25: \"cuda:0 f32[4, 16]\"\n",
      "  del xy, t8\n",
      "  return (t25,)\n"
     ]
    }
   ],
   "source": [
    "print(bwd_trace)"
   ]
  },
  {
   "cell_type": "code",
   "execution_count": 42,
   "metadata": {},
   "outputs": [
    {
     "data": {
      "text/plain": [
       "\n",
       "def nvfuser_fusion_id1(fd : FusionDefinition) -> None :\n",
       "    T0 = fd.define_tensor(shape=[-1, -1], contiguity=[True, True], dtype=DataType.Float, is_cpu=False, stride_order=[1, 0])\n",
       "    T1 = fd.define_tensor(shape=[-1, -1], contiguity=[True, True], dtype=DataType.Float, is_cpu=False, stride_order=[1, 0])\n",
       "    T2 = fd.ops.slice(T0, start_indices=[0, 0], end_indices=[4, 8], strides=[1, 1])\n",
       "    T3 = fd.ops.neg(T2)\n",
       "    T4 = fd.ops.slice(T0, start_indices=[0, 8], end_indices=[4, 16], strides=[1, 1])\n",
       "    T5 = fd.ops.exp(T3)\n",
       "    T6 = fd.ops.mul(T4, T1)\n",
       "    S7 = fd.define_scalar(1.00000, dtype=DataType.Double)\n",
       "    T8 = fd.ops.add(S7, T5)\n",
       "    T9 = fd.ops.mul(T2, T6)\n",
       "    T10 = fd.ops.reciprocal(T8)\n",
       "    T11 = fd.ops.neg(T9)\n",
       "    T12 = fd.ops.mul(T11, T10)\n",
       "    T13 = fd.ops.mul(T12, T10)\n",
       "    T14 = fd.ops.mul(T13, T5)\n",
       "    T15 = fd.ops.mul(T2, T10)\n",
       "    T16 = fd.ops.neg(T14)\n",
       "    T17 = fd.ops.mul(T10, T6)\n",
       "    T18 = fd.ops.mul(T15, T1)\n",
       "    T19 = fd.ops.add(T17, T16)\n",
       "    T20 = fd.ops.cat([T19, T18], dim=-1)\n",
       "    fd.add_output(T20)\n"
      ]
     },
     "execution_count": 42,
     "metadata": {},
     "output_type": "execute_result"
    }
   ],
   "source": [
    "bwd_trace.python_ctx()['nvFusion0'].last_used"
   ]
  },
  {
   "cell_type": "code",
   "execution_count": null,
   "metadata": {},
   "outputs": [],
   "source": []
  }
 ],
 "metadata": {
  "kernelspec": {
   "display_name": "Python 3",
   "language": "python",
   "name": "python3"
  },
  "language_info": {
   "codemirror_mode": {
    "name": "ipython",
    "version": 3
   },
   "file_extension": ".py",
   "mimetype": "text/x-python",
   "name": "python",
   "nbconvert_exporter": "python",
   "pygments_lexer": "ipython3",
   "version": "3.10.12"
  },
  "orig_nbformat": 4
 },
 "nbformat": 4,
 "nbformat_minor": 2
}
