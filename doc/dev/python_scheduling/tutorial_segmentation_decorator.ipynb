{
 "cells": [
  {
   "cell_type": "code",
   "execution_count": 1,
   "id": "19dd86f3-6562-4545-8c05-4cf4978fa123",
   "metadata": {},
   "outputs": [],
   "source": [
    "# Description: Schedule pointwise fusion without single reference tensor using scheduling primitives."
   ]
  },
  {
   "cell_type": "code",
   "execution_count": 2,
   "id": "661e4b5d-b1eb-4f62-8997-7e464eb19065",
   "metadata": {},
   "outputs": [],
   "source": [
    "import torch\n",
    "from nvfuser import (\n",
    "    FusionDefinition,\n",
    "    DataType,\n",
    "    ParallelType,\n",
    "    MemoryType,\n",
    ")\n",
    "\n",
    "\n",
    "def print_kernel_profile(kp):\n",
    "    basic_information = f\"name: {kp.name}, schedule: {kp.scheduler}, segment_id: {kp.segment_id}, device: {kp.device}, stream: {kp.stream}\"\n",
    "    print(basic_information)\n",
    "\n",
    "    kernel_information = f\"compile time: {kp.compile_time_ms:.2f} ms, grid: {kp.grid_str}, block: {kp.block_str}, registers: {kp.registers}\"\n",
    "    print(kernel_information)\n",
    "\n",
    "    runtime_information = f\"input size: {kp.input_bytes} bytes, output size: {kp.output_bytes} bytes, time: {kp.time_ms:2f} ms\"\n",
    "    print(runtime_information)\n",
    "\n",
    "    bandwidth_information = f\"Effective Bandwidth: {kp.effective_bandwidth_gbs:.2f} GB/s, Peak Bandwidth: {kp.percentage_peak_bandwidth:2f}%\"\n",
    "    print(bandwidth_information)"
   ]
  },
  {
   "cell_type": "code",
   "execution_count": 3,
   "id": "65fa32e5-e02e-44e7-90c5-167acc631785",
   "metadata": {},
   "outputs": [],
   "source": [
    "inputs = [\n",
    "    torch.randn(1024, device=\"cuda\"),\n",
    "    torch.randn(15000, 1024, device=\"cuda\"),\n",
    "    torch.randn(1024, 20000, device=\"cuda\"),\n",
    "]"
   ]
  },
  {
   "cell_type": "code",
   "execution_count": 4,
   "id": "577945b2-0987-4f92-b81f-90872078f3bd",
   "metadata": {},
   "outputs": [],
   "source": [
    "# Create schedule\n",
    "def schedule_fn(fd):\n",
    "    def schedule(fd):\n",
    "        cache_after_t1 = fd.sched.cache_after(fd.t1)\n",
    "        cache_after_t2 = fd.sched.cache_after(fd.t2)\n",
    "        cache_before_t5 = fd.sched.cache_before(fd.t5)\n",
    "        cache_before_t6 = fd.sched.cache_before(fd.t6)\n",
    "\n",
    "        tensors_2d = list(filter(lambda t: t.ndim == 2, fd.sched.tensors()))\n",
    "\n",
    "        # merge iterdomains and apply [grid, block, vectorize]\n",
    "        for t in tensors_2d:\n",
    "            # (I0 * I1) / 4, 4\n",
    "            fd.sched.merge(t, dim=0)\n",
    "            # (I0 * I1) / 4, 4\n",
    "            fd.sched.split(t, dim=0, factor=4)\n",
    "            # (I0 * I1) / 4 / 128, 128, 4\n",
    "            fd.sched.split(t, dim=0, factor=128)\n",
    "            # (I0 * I1) / 4 / 128, 128, 4\n",
    "            fd.sched.parallelize(t, axis := 0, ParallelType.grid_x)\n",
    "            fd.sched.parallelize(t, axis := -2, ParallelType.block_x)\n",
    "\n",
    "        # vectorize 2d tensors\n",
    "        fd.sched.parallelize(cache_after_t1, axis := -1, ParallelType.vectorize)\n",
    "        fd.sched.parallelize(cache_after_t2, axis := -1, ParallelType.vectorize)\n",
    "        fd.sched.parallelize(fd.t5, axis := -1, ParallelType.vectorize)\n",
    "        fd.sched.parallelize(fd.t6, axis := -1, ParallelType.vectorize)\n",
    "\n",
    "        # computeAt - automatically handles vectorize paralleltype\n",
    "        fd.sched.inline_most()\n",
    "\n",
    "    fd.schedule = schedule\n",
    "    return fd"
   ]
  },
  {
   "cell_type": "code",
   "execution_count": 5,
   "id": "43f25316-24e7-4a1b-bc9f-0d9599978cc6",
   "metadata": {},
   "outputs": [],
   "source": [
    "# Apply schedule with decorator pattern.\n",
    "@schedule_fn\n",
    "class Pointwise(FusionDefinition):\n",
    "    def definition(self):\n",
    "        self.t0 = self.from_pytorch(inputs[0])\n",
    "        self.t1 = self.from_pytorch(inputs[1])\n",
    "        self.t2 = self.from_pytorch(inputs[2])\n",
    "\n",
    "        self.t3 = self.ops.broadcast(self.t0, [True, False])\n",
    "        self.t4 = self.ops.broadcast(self.t0, [False, True])\n",
    "\n",
    "        self.t5 = self.ops.add(self.t3, self.t1)\n",
    "        self.t6 = self.ops.add(self.t4, self.t2)\n",
    "        self.add_output(self.t5)\n",
    "        self.add_output(self.t6)"
   ]
  },
  {
   "cell_type": "code",
   "execution_count": 6,
   "id": "e49663c0-300c-461e-8da7-6b10ce792348",
   "metadata": {},
   "outputs": [
    {
     "name": "stdout",
     "output_type": "stream",
     "text": [
      "\n",
      "\n",
      "============================================= Profile 1 segment Kernel ================================================\n",
      "name: nvfuser_none_f0_c0_r0_g0, schedule: user, segment_id: 0, device: 0, stream: 7\n",
      "compile time: 67.54 ms, grid: [40000, 1, 1], block: [128, 1, 1], registers: 26\n",
      "input size: 143364096 bytes, output size: 143360000 bytes, time: 0.343173 ms\n",
      "Effective Bandwidth: 835.51 GB/s, Peak Bandwidth: 89.254617%\n",
      "==============================================================================================================\n"
     ]
    }
   ],
   "source": [
    "print(\n",
    "    \"\\n\\n============================================= Profile 1 segment Kernel ================================================\"\n",
    ")\n",
    "fn = Pointwise()\n",
    "nvf_out = fn.execute(inputs, profile=True)\n",
    "\n",
    "kps = fn.profile().kernel_profiles\n",
    "for kp in kps:\n",
    "    print_kernel_profile(kp)\n",
    "    print(\"==============================================================================================================\")"
   ]
  }
 ],
 "metadata": {
  "kernelspec": {
   "display_name": "Python 3 (ipykernel)",
   "language": "python",
   "name": "python3"
  },
  "language_info": {
   "codemirror_mode": {
    "name": "ipython",
    "version": 3
   },
   "file_extension": ".py",
   "mimetype": "text/x-python",
   "name": "python",
   "nbconvert_exporter": "python",
   "pygments_lexer": "ipython3",
   "version": "3.10.13"
  }
 },
 "nbformat": 4,
 "nbformat_minor": 5
}
